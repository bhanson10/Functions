{
 "cells": [
  {
   "cell_type": "code",
   "execution_count": 1,
   "metadata": {},
   "outputs": [],
   "source": [
    "import blh_python_functions as blhpy\n",
    "import spiceypy as cspice\n",
    "from astropy.time import Time\n",
    "import matplotlib as plt\n",
    "import spiceypy as cspice\n",
    "import numpy as np\n",
    "from tqdm import tqdm"
   ]
  },
  {
   "cell_type": "code",
   "execution_count": null,
   "metadata": {},
   "outputs": [],
   "source": [
    "# Testing rv2koe and oe2rv functions\n",
    "mu    = 398600.4354\n",
    "state = [-5.53459337e+04, -6.03660758e+04,  2.83815925e+04, 2.54705729e+00, -8.75206051e-01,  2.98845840e-01]\n",
    "\n",
    "kep = blhpy.rv2koe(state, mu, 'deg')\n",
    "state = blhpy.oe2rv(kep, mu, 'coe', 'deg')\n",
    "\n",
    "print(state)"
   ]
  },
  {
   "cell_type": "code",
   "execution_count": null,
   "metadata": {},
   "outputs": [],
   "source": [
    "# Testing ecliptic to equatorial functions\n",
    "mu         = 398600.4354\n",
    "obliquity  = 23.4392911 #Degrees \n",
    "ec_state = [-5.53459337e+04, -6.03660758e+04,  2.83815925e+04, 2.54705729e+00, -8.75206051e-01,  2.98845840e-01]\n",
    "\n",
    "eq_state = blhpy.ecliptic_to_equatorial(ec_state, obliquity)\n",
    "ec_state = blhpy.equatorial_to_ecliptic(eq_state, obliquity)\n",
    "\n",
    "print(ec_state)"
   ]
  },
  {
   "cell_type": "code",
   "execution_count": null,
   "metadata": {},
   "outputs": [],
   "source": [
    "JD = blhpy.convert_time('2015-OCT-21 00:00:00', 'J', 6)\n",
    "print(JD)\n",
    "\n",
    "cal = blhpy.convert_time(JD, 'C', 0)\n",
    "print(cal)"
   ]
  },
  {
   "cell_type": "markdown",
   "metadata": {},
   "source": [
    "2455777.699467169\n",
    "2460012.245812828"
   ]
  },
  {
   "cell_type": "code",
   "execution_count": null,
   "metadata": {},
   "outputs": [],
   "source": [
    "cspice.furnsh('/Users/bhanson/Library/CloudStorage/OneDrive-UCSanDiego/UCSD/Research/Utilities/Kernels/leap-seconds/naif0012.tls')\n",
    "print(blhpy.convert_time(2460012.245812828, 'C', 0))"
   ]
  },
  {
   "cell_type": "code",
   "execution_count": null,
   "metadata": {},
   "outputs": [],
   "source": [
    "cspice.furnsh('/Users/bhanson/Library/CloudStorage/OneDrive-UCSanDiego/UCSD/Research/Utilities/Kernels/leap-seconds/naif0012.tls')\n",
    "# TDB Gregorian - 01 Jan 2021 00:00:00\n",
    "# UTC Mod Julian - 29215.49919926009\n",
    "# TDB Mod Julian - 29215.5\n",
    "\n",
    "TDBMJD = 29215.5\n",
    "UTCMJD = 59073.76012213199\n",
    "\n",
    "offset = 2430000.0\n",
    "\n",
    "TDBJD = TDBMJD + offset\n",
    "UTCJD = UTCMJD + offset\n",
    "\n",
    "utc_time = Time(UTCJD, format='jd', scale='utc')\n",
    "tdb_time = utc_time.tdb\n",
    "\n",
    "tdb_jd = tdb_time.jd\n",
    "print(\"Converted time: \", tdb_jd)\n",
    "print(blhpy.convert_time(float(tdb_jd), 'C',0))"
   ]
  },
  {
   "cell_type": "code",
   "execution_count": null,
   "metadata": {},
   "outputs": [],
   "source": [
    "filepath = '/Users/bhanson/Library/CloudStorage/OneDrive-UCSanDiego/UCSD/Research/Rosengren/SFFP/TESS_IBEX_Spektr-R/TESS_IBEX_Spektr-R/Ephemerides/tle_hist_33401_IC.txt'\n",
    "blhpy.convert_tle_file_utc_2_tdb(filepath)"
   ]
  },
  {
   "cell_type": "code",
   "execution_count": 3,
   "metadata": {},
   "outputs": [
    {
     "name": "stdout",
     "output_type": "stream",
     "text": [
      "RV_R_barycenter_unitless: [ 0.99113852 -0.03141244 -0.03049454 -0.07948762  0.17577263  0.63534764]\n",
      "rv_I: [-3.64300623e+05  1.79569427e+05  1.37482900e+04 -4.22408640e-01\n",
      " -1.13506240e+00  5.56666817e-01]\n"
     ]
    }
   ],
   "source": [
    "class const:\n",
    "\n",
    "    def __init__(self,primary_mu, secondary_mu):\n",
    "        self.primary_mu = primary_mu\n",
    "        self.secondary_mu = secondary_mu\n",
    "\n",
    "cspice.furnsh('/Users/bhanson/Library/CloudStorage/OneDrive-UCSanDiego/UCSD/Research/Utilities/Kernels/planets/de441.bsp')\n",
    "cspice.furnsh('/Users/bhanson/Library/CloudStorage/OneDrive-UCSanDiego/UCSD/Research/Utilities/Kernels/leap-seconds/naif0012.tls')\n",
    "\n",
    "# Testing AGI conversion from J2000 to unitless barycenter and back\n",
    "const1 = const(398600.4,4902.8001)        \n",
    "\n",
    "rv_I   = np.array([-3.643006231934826E+05, 1.795694265325507E+05, 1.374829002429234E+04, -4.224086396977384E-01, -1.135062395919662E+00, 5.566668169147170E-01])\n",
    "# print(\"rv_I:\", rv_I)\n",
    "rv_sec = np.array(cspice.spkezr('Moon', cspice.str2et('JD'+str(2460310.5)), 'ECLIPJ2000', 'none', 'Earth')[0])\n",
    "# print(\"rv_sec:\", rv_sec)\n",
    "RV_R_barycenter_unitless = blhpy.AGI_Qmethod_J2000_rv_to_RotateBaryCenter_rv(rv_sec, rv_I, const1)\n",
    "print(\"RV_R_barycenter_unitless:\", RV_R_barycenter_unitless)\n",
    "rv_I = blhpy.AGI_Qmethod_Inverse_RotateBarycenter_rv_to_J2000_rv(rv_sec, RV_R_barycenter_unitless, const1)\n",
    "print(\"rv_I:\", rv_I)"
   ]
  },
  {
   "cell_type": "code",
   "execution_count": null,
   "metadata": {},
   "outputs": [],
   "source": []
  }
 ],
 "metadata": {
  "kernelspec": {
   "display_name": "Python 3",
   "language": "python",
   "name": "python3"
  },
  "language_info": {
   "codemirror_mode": {
    "name": "ipython",
    "version": 3
   },
   "file_extension": ".py",
   "mimetype": "text/x-python",
   "name": "python",
   "nbconvert_exporter": "python",
   "pygments_lexer": "ipython3",
   "version": "3.11.4"
  },
  "orig_nbformat": 4
 },
 "nbformat": 4,
 "nbformat_minor": 2
}
